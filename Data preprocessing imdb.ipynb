{
 "cells": [
  {
   "cell_type": "code",
   "execution_count": 1,
   "metadata": {},
   "outputs": [],
   "source": [
    "import pandas as pd\n",
    "import matplotlib.pyplot as plt\n",
    "import seaborn as sns\n",
    "import numpy as np\n",
    "df_path = 'C:/Users/user/Desktop/Data science/Мо/imdb_top_1000.csv'\n",
    "df_imdb = pd.read_csv(df_path)\n",
    "df_imdb.shape\n",
    "df_imdb.head()\n",
    "s = (df_imdb.dtypes == 'object')\n",
    "object_cols = list(s[s].index)"
   ]
  },
  {
   "cell_type": "code",
   "execution_count": 2,
   "metadata": {},
   "outputs": [
    {
     "name": "stdout",
     "output_type": "stream",
     "text": [
      "Categorical variables:\n",
      "['Poster_Link', 'Series_Title', 'Released_Year', 'Certificate', 'Runtime', 'Genre', 'Overview', 'Director', 'Star1', 'Star2', 'Star3', 'Star4', 'Gross']\n",
      "Series_Title\n",
      "False    1000\n",
      "Name: Series_Title, dtype: int64\n",
      " \n",
      "Released_Year\n",
      "False    1000\n",
      "Name: Released_Year, dtype: int64\n",
      " \n",
      "Certificate\n",
      "False    899\n",
      "True     101\n",
      "Name: Certificate, dtype: int64\n",
      " \n",
      "Runtime\n",
      "False    1000\n",
      "Name: Runtime, dtype: int64\n",
      " \n",
      "Genre\n",
      "False    1000\n",
      "Name: Genre, dtype: int64\n",
      " \n",
      "IMDB_Rating\n",
      "False    1000\n",
      "Name: IMDB_Rating, dtype: int64\n",
      " \n",
      "Meta_score\n",
      "False    843\n",
      "True     157\n",
      "Name: Meta_score, dtype: int64\n",
      " \n",
      "Director\n",
      "False    1000\n",
      "Name: Director, dtype: int64\n",
      " \n",
      "Star1\n",
      "False    1000\n",
      "Name: Star1, dtype: int64\n",
      " \n",
      "Star2\n",
      "False    1000\n",
      "Name: Star2, dtype: int64\n",
      " \n",
      "Star3\n",
      "False    1000\n",
      "Name: Star3, dtype: int64\n",
      " \n",
      "Star4\n",
      "False    1000\n",
      "Name: Star4, dtype: int64\n",
      " \n",
      "No_of_Votes\n",
      "False    1000\n",
      "Name: No_of_Votes, dtype: int64\n",
      " \n",
      "Gross\n",
      "False    831\n",
      "True     169\n",
      "Name: Gross, dtype: int64\n",
      " \n"
     ]
    }
   ],
   "source": [
    "# Defining categorical variables\n",
    "print(\"Categorical variables:\")\n",
    "print(object_cols)\n",
    "del df_imdb['Poster_Link']\n",
    "del df_imdb['Overview']\n",
    "missing_data = df_imdb.isnull()\n",
    "for column in missing_data.columns.values.tolist():\n",
    "    print(column)\n",
    "    print(missing_data[column].value_counts())\n",
    "    print(\" \")"
   ]
  },
  {
   "cell_type": "code",
   "execution_count": 3,
   "metadata": {},
   "outputs": [
    {
     "name": "stdout",
     "output_type": "stream",
     "text": [
      "['A' 'UA' 'U' 'PG-13' 'R' nan 'PG' 'G' 'Passed' 'TV-14' '16' 'TV-MA'\n",
      " 'Unrated' 'GP' 'Approved' 'TV-PG' 'U/A']\n"
     ]
    }
   ],
   "source": [
    "# Changing NaN in the rating column to a more understandable value\n",
    "print(df_imdb.Certificate.unique())\n",
    "df_imdb[df_imdb['Certificate'].isna()]\n",
    "df_imdb['Certificate'] = df_imdb['Certificate'].fillna('Unrated')\n",
    "#Converting a column to numeric values\n",
    "df_imdb['Series_Title'].loc[df_imdb['Certificate']=='Unrated']\n",
    "df_imdb['Certificate'].replace({'A': 18, 'UA': 14,'U': 16,'R': 16,'G': 0,'Passed':0,'PG-13':13,\n",
    "                            'PG':0,'Unrated':0,'GP':14,'Approved':12,'TV-PG':13,'U/A':13},\n",
    "                            inplace = True)"
   ]
  },
  {
   "cell_type": "code",
   "execution_count": 4,
   "metadata": {},
   "outputs": [
    {
     "name": "stderr",
     "output_type": "stream",
     "text": [
      "<ipython-input-4-7c06cecbd0c9>:7: SettingWithCopyWarning: \n",
      "A value is trying to be set on a copy of a slice from a DataFrame\n",
      "\n",
      "See the caveats in the documentation: https://pandas.pydata.org/pandas-docs/stable/user_guide/indexing.html#returning-a-view-versus-a-copy\n",
      "  df_imdb['Gross'][i] = ''.join(r)\n"
     ]
    },
    {
     "data": {
      "text/html": [
       "<div>\n",
       "<style scoped>\n",
       "    .dataframe tbody tr th:only-of-type {\n",
       "        vertical-align: middle;\n",
       "    }\n",
       "\n",
       "    .dataframe tbody tr th {\n",
       "        vertical-align: top;\n",
       "    }\n",
       "\n",
       "    .dataframe thead th {\n",
       "        text-align: right;\n",
       "    }\n",
       "</style>\n",
       "<table border=\"1\" class=\"dataframe\">\n",
       "  <thead>\n",
       "    <tr style=\"text-align: right;\">\n",
       "      <th></th>\n",
       "      <th>Series_Title</th>\n",
       "      <th>Released_Year</th>\n",
       "      <th>Certificate</th>\n",
       "      <th>Runtime</th>\n",
       "      <th>Genre</th>\n",
       "      <th>IMDB_Rating</th>\n",
       "      <th>Meta_score</th>\n",
       "      <th>Director</th>\n",
       "      <th>Star1</th>\n",
       "      <th>Star2</th>\n",
       "      <th>Star3</th>\n",
       "      <th>Star4</th>\n",
       "      <th>No_of_Votes</th>\n",
       "      <th>Gross</th>\n",
       "    </tr>\n",
       "  </thead>\n",
       "  <tbody>\n",
       "    <tr>\n",
       "      <th>0</th>\n",
       "      <td>The Shawshank Redemption</td>\n",
       "      <td>1994</td>\n",
       "      <td>18</td>\n",
       "      <td>142 min</td>\n",
       "      <td>Drama</td>\n",
       "      <td>9.3</td>\n",
       "      <td>80.0</td>\n",
       "      <td>Frank Darabont</td>\n",
       "      <td>Tim Robbins</td>\n",
       "      <td>Morgan Freeman</td>\n",
       "      <td>Bob Gunton</td>\n",
       "      <td>William Sadler</td>\n",
       "      <td>2343110</td>\n",
       "      <td>28341469</td>\n",
       "    </tr>\n",
       "    <tr>\n",
       "      <th>1</th>\n",
       "      <td>The Godfather</td>\n",
       "      <td>1972</td>\n",
       "      <td>18</td>\n",
       "      <td>175 min</td>\n",
       "      <td>Crime, Drama</td>\n",
       "      <td>9.2</td>\n",
       "      <td>100.0</td>\n",
       "      <td>Francis Ford Coppola</td>\n",
       "      <td>Marlon Brando</td>\n",
       "      <td>Al Pacino</td>\n",
       "      <td>James Caan</td>\n",
       "      <td>Diane Keaton</td>\n",
       "      <td>1620367</td>\n",
       "      <td>134966411</td>\n",
       "    </tr>\n",
       "    <tr>\n",
       "      <th>2</th>\n",
       "      <td>The Dark Knight</td>\n",
       "      <td>2008</td>\n",
       "      <td>14</td>\n",
       "      <td>152 min</td>\n",
       "      <td>Action, Crime, Drama</td>\n",
       "      <td>9.0</td>\n",
       "      <td>84.0</td>\n",
       "      <td>Christopher Nolan</td>\n",
       "      <td>Christian Bale</td>\n",
       "      <td>Heath Ledger</td>\n",
       "      <td>Aaron Eckhart</td>\n",
       "      <td>Michael Caine</td>\n",
       "      <td>2303232</td>\n",
       "      <td>534858444</td>\n",
       "    </tr>\n",
       "    <tr>\n",
       "      <th>3</th>\n",
       "      <td>The Godfather: Part II</td>\n",
       "      <td>1974</td>\n",
       "      <td>18</td>\n",
       "      <td>202 min</td>\n",
       "      <td>Crime, Drama</td>\n",
       "      <td>9.0</td>\n",
       "      <td>90.0</td>\n",
       "      <td>Francis Ford Coppola</td>\n",
       "      <td>Al Pacino</td>\n",
       "      <td>Robert De Niro</td>\n",
       "      <td>Robert Duvall</td>\n",
       "      <td>Diane Keaton</td>\n",
       "      <td>1129952</td>\n",
       "      <td>57300000</td>\n",
       "    </tr>\n",
       "    <tr>\n",
       "      <th>4</th>\n",
       "      <td>12 Angry Men</td>\n",
       "      <td>1957</td>\n",
       "      <td>16</td>\n",
       "      <td>96 min</td>\n",
       "      <td>Crime, Drama</td>\n",
       "      <td>9.0</td>\n",
       "      <td>96.0</td>\n",
       "      <td>Sidney Lumet</td>\n",
       "      <td>Henry Fonda</td>\n",
       "      <td>Lee J. Cobb</td>\n",
       "      <td>Martin Balsam</td>\n",
       "      <td>John Fiedler</td>\n",
       "      <td>689845</td>\n",
       "      <td>4360000</td>\n",
       "    </tr>\n",
       "  </tbody>\n",
       "</table>\n",
       "</div>"
      ],
      "text/plain": [
       "               Series_Title Released_Year Certificate  Runtime  \\\n",
       "0  The Shawshank Redemption          1994          18  142 min   \n",
       "1             The Godfather          1972          18  175 min   \n",
       "2           The Dark Knight          2008          14  152 min   \n",
       "3    The Godfather: Part II          1974          18  202 min   \n",
       "4              12 Angry Men          1957          16   96 min   \n",
       "\n",
       "                  Genre  IMDB_Rating  Meta_score              Director  \\\n",
       "0                 Drama          9.3        80.0        Frank Darabont   \n",
       "1          Crime, Drama          9.2       100.0  Francis Ford Coppola   \n",
       "2  Action, Crime, Drama          9.0        84.0     Christopher Nolan   \n",
       "3          Crime, Drama          9.0        90.0  Francis Ford Coppola   \n",
       "4          Crime, Drama          9.0        96.0          Sidney Lumet   \n",
       "\n",
       "            Star1           Star2          Star3           Star4  No_of_Votes  \\\n",
       "0     Tim Robbins  Morgan Freeman     Bob Gunton  William Sadler      2343110   \n",
       "1   Marlon Brando       Al Pacino     James Caan    Diane Keaton      1620367   \n",
       "2  Christian Bale    Heath Ledger  Aaron Eckhart   Michael Caine      2303232   \n",
       "3       Al Pacino  Robert De Niro  Robert Duvall    Diane Keaton      1129952   \n",
       "4     Henry Fonda     Lee J. Cobb  Martin Balsam    John Fiedler       689845   \n",
       "\n",
       "       Gross  \n",
       "0   28341469  \n",
       "1  134966411  \n",
       "2  534858444  \n",
       "3   57300000  \n",
       "4    4360000  "
      ]
     },
     "execution_count": 4,
     "metadata": {},
     "output_type": "execute_result"
    }
   ],
   "source": [
    "# Converting 'Gross' column to numeric values\n",
    "df_imdb.dropna(subset=[\"Gross\"], axis=0, inplace=True)\n",
    "df_imdb.reset_index(drop=True, inplace=True)\n",
    "df_imdb.Gross[1].split(',')\n",
    "for i in range(len(df_imdb[\"Gross\"])):\n",
    "    r=df_imdb.Gross[i].split(',')\n",
    "    df_imdb['Gross'][i] = ''.join(r)\n",
    "df_imdb['Gross'].astype(int)\n",
    "df_imdb['Gross'].dtype\n",
    "df_imdb.head()"
   ]
  },
  {
   "cell_type": "code",
   "execution_count": 5,
   "metadata": {},
   "outputs": [
    {
     "data": {
      "text/plain": [
       "<AxesSubplot:xlabel='IMDB_Rating', ylabel='Meta_score'>"
      ]
     },
     "execution_count": 5,
     "metadata": {},
     "output_type": "execute_result"
    },
    {
     "data": {
      "image/png": "[encoded data removed]",
      "text/plain": [
       "<Figure size 432x288 with 1 Axes>"
      ]
     },
     "metadata": {
      "needs_background": "light"
     },
     "output_type": "display_data"
    }
   ],
   "source": [
    "# Building a column showing the initially missing values in the column 'Meta_score'\n",
    "df_imdb['Metascore_NaN']=np.NaN\n",
    "df_imdb['Metascore_NaN']=list(df_imdb['Meta_score'].isnull())\n",
    "#Plotting a graph showing the relationship\n",
    "sns.regplot(x=df_imdb['IMDB_Rating'], y=df_imdb['Meta_score'])"
   ]
  },
  {
   "cell_type": "code",
   "execution_count": 6,
   "metadata": {},
   "outputs": [],
   "source": [
    "#Replacing NaN in the ratings column with averages\n",
    "avg_Meta_score = df_imdb[\"Meta_score\"].astype(\"float\").mean(axis=0)\n",
    "df_imdb[\"Meta_score\"].replace(np.nan,avg_Meta_score, inplace=True)"
   ]
  },
  {
   "cell_type": "code",
   "execution_count": 7,
   "metadata": {},
   "outputs": [
    {
     "name": "stdout",
     "output_type": "stream",
     "text": [
      "PG\n"
     ]
    },
    {
     "name": "stderr",
     "output_type": "stream",
     "text": [
      "<ipython-input-7-fb6ada373d22>:5: SettingWithCopyWarning: \n",
      "A value is trying to be set on a copy of a slice from a DataFrame\n",
      "\n",
      "See the caveats in the documentation: https://pandas.pydata.org/pandas-docs/stable/user_guide/indexing.html#returning-a-view-versus-a-copy\n",
      "  df_imdb['Released_Year'][803]='1995'\n"
     ]
    },
    {
     "data": {
      "text/plain": [
       "dtype('O')"
      ]
     },
     "execution_count": 7,
     "metadata": {},
     "output_type": "execute_result"
    }
   ],
   "source": [
    "# Analysis of values in the 'Released_Year' column\n",
    "df_imdb['Released_Year'].unique()\n",
    "df_imdb['Series_Title'].loc[df_imdb['Released_Year']=='PG']\n",
    "print(df_imdb['Released_Year'][803])\n",
    "df_imdb['Released_Year'][803]='1995'\n",
    "df_imdb.Released_Year.astype(int)\n",
    "df_imdb['Released_Year'].dtype"
   ]
  },
  {
   "cell_type": "code",
   "execution_count": 8,
   "metadata": {},
   "outputs": [
    {
     "name": "stderr",
     "output_type": "stream",
     "text": [
      "<ipython-input-8-b0b72bfcc000>:5: SettingWithCopyWarning: \n",
      "A value is trying to be set on a copy of a slice from a DataFrame\n",
      "\n",
      "See the caveats in the documentation: https://pandas.pydata.org/pandas-docs/stable/user_guide/indexing.html#returning-a-view-versus-a-copy\n",
      "  df_imdb.Runtime[i] = ''.join(g)\n"
     ]
    },
    {
     "data": {
      "text/plain": [
       "0    142\n",
       "1    175\n",
       "2    152\n",
       "3    202\n",
       "4     96\n",
       "Name: Runtime, dtype: object"
      ]
     },
     "execution_count": 8,
     "metadata": {},
     "output_type": "execute_result"
    }
   ],
   "source": [
    "# Converting the 'Runtime' column to numeric values\n",
    "for i in range(len(df_imdb['Runtime'])):\n",
    "    g = df_imdb.Runtime[i].split()\n",
    "    g.remove('min')\n",
    "    df_imdb.Runtime[i] = ''.join(g)\n",
    "df_imdb['Runtime'].head()"
   ]
  },
  {
   "cell_type": "code",
   "execution_count": 12,
   "metadata": {},
   "outputs": [],
   "source": [
    "from Famous_directors import Famous_directors"
   ]
  },
  {
   "cell_type": "code",
   "execution_count": 13,
   "metadata": {},
   "outputs": [],
   "source": [
    "# Identifing famous and unknown directors\n",
    "df_imdb['Director'].value_counts()\n",
    "df_imdb['Director'].unique()\n",
    "df_imdb['F_Directors'] = np.NaN\n",
    "df_imdb['F_Directors']=list(df_imdb['Director'].isin(Famous_directors))"
   ]
  },
  {
   "cell_type": "code",
   "execution_count": 14,
   "metadata": {},
   "outputs": [],
   "source": [
    "#Replacing with numeric values\n",
    "df_imdb.F_Directors.replace({True: 1, False: 0}, inplace = True)"
   ]
  },
  {
   "cell_type": "code",
   "execution_count": 17,
   "metadata": {},
   "outputs": [],
   "source": [
    "from Famous_people import famous_actors"
   ]
  },
  {
   "cell_type": "code",
   "execution_count": 18,
   "metadata": {},
   "outputs": [],
   "source": [
    "# Identifing famous and unknown actors\n",
    "df_imdb['F_star'] = np.NaN"
   ]
  },
  {
   "cell_type": "code",
   "execution_count": 19,
   "metadata": {},
   "outputs": [],
   "source": [
    "#Replacing with numeric values\n",
    "df_imdb['F_star']=list(df_imdb['Star1'].isin(famous_actors))\n",
    "df_imdb.F_star.replace({True: 1, False: 0}, inplace = True)\n",
    "df_imdb['F2_star'] = np.NaN\n",
    "df_imdb['F2_star']=list(df_imdb['Star2'].isin(famous_actors))\n",
    "df_imdb.F2_star.replace({True: 1, False: 0}, inplace = True)\n",
    "df_imdb['F3_star'] = np.NaN\n",
    "df_imdb['F3_star']=list(df_imdb['Star3'].isin(famous_actors))\n",
    "df_imdb.F3_star.replace({True: 1, False: 0}, inplace = True)\n",
    "df_imdb['F4_star'] = np.NaN\n",
    "df_imdb['F4_star']=list(df_imdb['Star4'].isin(famous_actors))\n",
    "df_imdb.F4_star.replace({True: 1, False: 0}, inplace = True)"
   ]
  },
  {
   "cell_type": "code",
   "execution_count": 20,
   "metadata": {},
   "outputs": [],
   "source": [
    "# Removing unnecessary columns\n",
    "del df_imdb['Star1']\n",
    "del df_imdb['Star2']\n",
    "del df_imdb['Star3']\n",
    "del df_imdb['Star4']\n",
    "del df_imdb['Director']\n",
    "del df_imdb['Genre']"
   ]
  },
  {
   "cell_type": "code",
   "execution_count": 21,
   "metadata": {},
   "outputs": [
    {
     "data": {
      "text/plain": [
       "dtype('int64')"
      ]
     },
     "execution_count": 21,
     "metadata": {},
     "output_type": "execute_result"
    }
   ],
   "source": [
    "# Converting columns to a numeric format\n",
    "df_imdb['Released_Year'] = df_imdb['Released_Year'].astype(str).astype(int)\n",
    "df_imdb['Released_Year'].dtype\n",
    "df_imdb['Gross'] = df_imdb['Gross'].astype(str).astype(int)\n",
    "df_imdb['Gross'].dtype\n",
    "df_imdb['Runtime'] = df_imdb['Runtime'].astype(str).astype(int)   \n",
    "df_imdb['Runtime'].dtype\n",
    "df_imdb['IMDB_Rating'].dtype\n",
    "df_imdb['Meta_score'].dtype\n",
    "df_imdb['No_of_Votes'].dtype"
   ]
  },
  {
   "cell_type": "code",
   "execution_count": 23,
   "metadata": {},
   "outputs": [
    {
     "data": {
      "text/html": [
       "<div>\n",
       "<style scoped>\n",
       "    .dataframe tbody tr th:only-of-type {\n",
       "        vertical-align: middle;\n",
       "    }\n",
       "\n",
       "    .dataframe tbody tr th {\n",
       "        vertical-align: top;\n",
       "    }\n",
       "\n",
       "    .dataframe thead th {\n",
       "        text-align: right;\n",
       "    }\n",
       "</style>\n",
       "<table border=\"1\" class=\"dataframe\">\n",
       "  <thead>\n",
       "    <tr style=\"text-align: right;\">\n",
       "      <th></th>\n",
       "      <th>Series_Title</th>\n",
       "      <th>Released_Year</th>\n",
       "      <th>Certificate</th>\n",
       "      <th>Runtime</th>\n",
       "      <th>IMDB_Rating</th>\n",
       "      <th>Meta_score</th>\n",
       "      <th>No_of_Votes</th>\n",
       "      <th>Metascore_NaN</th>\n",
       "      <th>F_Directors</th>\n",
       "      <th>F_star</th>\n",
       "      <th>F2_star</th>\n",
       "      <th>F3_star</th>\n",
       "      <th>F4_star</th>\n",
       "      <th>Gross</th>\n",
       "    </tr>\n",
       "  </thead>\n",
       "  <tbody>\n",
       "    <tr>\n",
       "      <th>0</th>\n",
       "      <td>The Shawshank Redemption</td>\n",
       "      <td>1994</td>\n",
       "      <td>18</td>\n",
       "      <td>142</td>\n",
       "      <td>9.3</td>\n",
       "      <td>80.0</td>\n",
       "      <td>2343110</td>\n",
       "      <td>False</td>\n",
       "      <td>1</td>\n",
       "      <td>1</td>\n",
       "      <td>1</td>\n",
       "      <td>0</td>\n",
       "      <td>0</td>\n",
       "      <td>28341469</td>\n",
       "    </tr>\n",
       "    <tr>\n",
       "      <th>1</th>\n",
       "      <td>The Godfather</td>\n",
       "      <td>1972</td>\n",
       "      <td>18</td>\n",
       "      <td>175</td>\n",
       "      <td>9.2</td>\n",
       "      <td>100.0</td>\n",
       "      <td>1620367</td>\n",
       "      <td>False</td>\n",
       "      <td>1</td>\n",
       "      <td>1</td>\n",
       "      <td>1</td>\n",
       "      <td>1</td>\n",
       "      <td>1</td>\n",
       "      <td>134966411</td>\n",
       "    </tr>\n",
       "    <tr>\n",
       "      <th>2</th>\n",
       "      <td>The Dark Knight</td>\n",
       "      <td>2008</td>\n",
       "      <td>14</td>\n",
       "      <td>152</td>\n",
       "      <td>9.0</td>\n",
       "      <td>84.0</td>\n",
       "      <td>2303232</td>\n",
       "      <td>False</td>\n",
       "      <td>1</td>\n",
       "      <td>1</td>\n",
       "      <td>1</td>\n",
       "      <td>0</td>\n",
       "      <td>1</td>\n",
       "      <td>534858444</td>\n",
       "    </tr>\n",
       "    <tr>\n",
       "      <th>3</th>\n",
       "      <td>The Godfather: Part II</td>\n",
       "      <td>1974</td>\n",
       "      <td>18</td>\n",
       "      <td>202</td>\n",
       "      <td>9.0</td>\n",
       "      <td>90.0</td>\n",
       "      <td>1129952</td>\n",
       "      <td>False</td>\n",
       "      <td>1</td>\n",
       "      <td>1</td>\n",
       "      <td>1</td>\n",
       "      <td>1</td>\n",
       "      <td>1</td>\n",
       "      <td>57300000</td>\n",
       "    </tr>\n",
       "    <tr>\n",
       "      <th>4</th>\n",
       "      <td>12 Angry Men</td>\n",
       "      <td>1957</td>\n",
       "      <td>16</td>\n",
       "      <td>96</td>\n",
       "      <td>9.0</td>\n",
       "      <td>96.0</td>\n",
       "      <td>689845</td>\n",
       "      <td>False</td>\n",
       "      <td>1</td>\n",
       "      <td>0</td>\n",
       "      <td>0</td>\n",
       "      <td>1</td>\n",
       "      <td>0</td>\n",
       "      <td>4360000</td>\n",
       "    </tr>\n",
       "  </tbody>\n",
       "</table>\n",
       "</div>"
      ],
      "text/plain": [
       "               Series_Title  Released_Year Certificate  Runtime  IMDB_Rating  \\\n",
       "0  The Shawshank Redemption           1994          18      142          9.3   \n",
       "1             The Godfather           1972          18      175          9.2   \n",
       "2           The Dark Knight           2008          14      152          9.0   \n",
       "3    The Godfather: Part II           1974          18      202          9.0   \n",
       "4              12 Angry Men           1957          16       96          9.0   \n",
       "\n",
       "   Meta_score  No_of_Votes  Metascore_NaN  F_Directors  F_star  F2_star  \\\n",
       "0        80.0      2343110          False            1       1        1   \n",
       "1       100.0      1620367          False            1       1        1   \n",
       "2        84.0      2303232          False            1       1        1   \n",
       "3        90.0      1129952          False            1       1        1   \n",
       "4        96.0       689845          False            1       0        0   \n",
       "\n",
       "   F3_star  F4_star      Gross  \n",
       "0        0        0   28341469  \n",
       "1        1        1  134966411  \n",
       "2        0        1  534858444  \n",
       "3        1        1   57300000  \n",
       "4        1        0    4360000  "
      ]
     },
     "execution_count": 23,
     "metadata": {},
     "output_type": "execute_result"
    }
   ],
   "source": [
    "# Processing of the received table\n",
    "df_imdb = df_imdb[[c for c in df_imdb if c not in ['Gross']] \n",
    "       + ['Gross']]\n",
    "df_imdb.head()"
   ]
  },
  {
   "cell_type": "code",
   "execution_count": null,
   "metadata": {},
   "outputs": [],
   "source": [
    "df_imdb.to_csv('C:/Users/user/Desktop/Data science/Мо/imdb_pre-processing.csv', encoding='utf-8', index=False)"
   ]
  }
 ],
 "metadata": {
  "kernelspec": {
   "display_name": "Python 3",
   "language": "python",
   "name": "python3"
  },
  "language_info": {
   "codemirror_mode": {
    "name": "ipython",
    "version": 3
   },
   "file_extension": ".py",
   "mimetype": "text/x-python",
   "name": "python",
   "nbconvert_exporter": "python",
   "pygments_lexer": "ipython3",
   "version": "3.8.5"
  }
 },
 "nbformat": 4,
 "nbformat_minor": 4
}
