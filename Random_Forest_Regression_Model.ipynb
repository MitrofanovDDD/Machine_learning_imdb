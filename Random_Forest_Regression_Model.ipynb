{
 "cells": [
  {
   "cell_type": "code",
   "execution_count": 1,
   "metadata": {},
   "outputs": [],
   "source": [
    "import pandas as pd\n",
    "import matplotlib.pyplot as plt\n",
    "import seaborn as sns\n",
    "import numpy as np\n",
    "df_path = 'C:/Users/user/Desktop/Data science/Мо/imdb_pre-processing.csv'\n",
    "df_imdb = pd.read_csv(df_path)\n",
    "cols_to_use = ['Released_Year', 'Certificate', 'Runtime', 'IMDB_Rating', 'Meta_score',\n",
    "               'No_of_Votes','Metascore_NaN','F_Directors','F_star',\n",
    "               'F2_star','F3_star','F4_star']\n",
    "X = df_imdb[cols_to_use]\n",
    "y = df_imdb.Gross"
   ]
  },
  {
   "cell_type": "code",
   "execution_count": 2,
   "metadata": {},
   "outputs": [
    {
     "name": "stdout",
     "output_type": "stream",
     "text": [
      "number of test samples : 208\n",
      "number of training samples: 623\n"
     ]
    }
   ],
   "source": [
    "#Dividing data into training and test data\n",
    "from sklearn.model_selection import train_test_split\n",
    "from sklearn.metrics import mean_squared_error\n",
    "from sklearn.metrics import r2_score\n",
    "train_X, val_X, train_y, val_y = train_test_split(X, y,random_state = 1)\n",
    "print(\"number of test samples :\", val_X.shape[0])\n",
    "print(\"number of training samples:\",train_X.shape[0])"
   ]
  },
  {
   "cell_type": "code",
   "execution_count": 6,
   "metadata": {},
   "outputs": [
    {
     "name": "stdout",
     "output_type": "stream",
     "text": [
      "MSE при обучении: 677164894303148.000,при испытании: 6107043536884325.000\n",
      "R^2 при обучении: 0.943,при испытании: 0.509\n"
     ]
    }
   ],
   "source": [
    "# Building a model using a random forest with the MSE metric\n",
    "from sklearn.ensemble import RandomForestRegressor\n",
    "forest = RandomForestRegressor(n_estimators=1000,criterion='mse', random_state=1)\n",
    "forest.fit(train_X, train_y)\n",
    "y_train_pred = forest.predict(train_X)\n",
    "y_test_pred = forest.predict(val_X)\n",
    "print('MSE при обучении: %.3f,при испытании: %.3f' %(\n",
    "    mean_squared_error(train_y,y_train_pred),\n",
    "    mean_squared_error(val_y,y_test_pred)))\n",
    "print('R^2 при обучении: %.3f,при испытании: %.3f' %(\n",
    "    r2_score(train_y,y_train_pred),\n",
    "    r2_score(val_y,y_test_pred)))"
   ]
  },
  {
   "cell_type": "code",
   "execution_count": 7,
   "metadata": {},
   "outputs": [
    {
     "name": "stdout",
     "output_type": "stream",
     "text": [
      " 1) No_of_Votes                   0.471878\n",
      " 2) Released_Year                 0.142985\n",
      " 3) Runtime                       0.124468\n",
      " 4) IMDB_Rating                   0.077767\n",
      " 5) Certificate                   0.069952\n",
      " 6) Meta_score                    0.051049\n",
      " 7) F_star                        0.021689\n",
      " 8) F4_star                       0.011538\n",
      " 9) F_Directors                   0.010864\n",
      "10) F3_star                       0.009655\n",
      "11) F2_star                       0.008114\n",
      "12) Metascore_NaN                 0.000043\n"
     ]
    },
    {
     "data": {
      "image/png": "[encoded data removed]",
      "text/plain": [
       "<Figure size 432x288 with 1 Axes>"
      ]
     },
     "metadata": {
      "needs_background": "light"
     },
     "output_type": "display_data"
    }
   ],
   "source": [
    "# Evaluation of the impact of parameters\n",
    "feat_labels = df_imdb.columns[1:] \n",
    "importances = forest.feature_importances_\n",
    "indices = np. argsort(importances)[::-1]\n",
    "for f in range(val_X.shape[1]):\n",
    "    print(\"%2d) %-*s%f\" % (f + 1, 30,\n",
    "                       feat_labels[indices[f]],\n",
    "                       importances[indices[f]]))\n",
    "plt.title('Важность признаков')\n",
    "plt.bar(range(val_X.shape[1]),\n",
    "        importances[indices],\n",
    "        align='center' )\n",
    "plt.xticks(range(val_X.shape[1]),feat_labels[indices], rotation=90)\n",
    "plt.xlim([-1,val_X.shape[1]])\n",
    "plt.tight_layout()\n",
    "plt.show()"
   ]
  }
 ],
 "metadata": {
  "kernelspec": {
   "display_name": "Python 3",
   "language": "python",
   "name": "python3"
  },
  "language_info": {
   "codemirror_mode": {
    "name": "ipython",
    "version": 3
   },
   "file_extension": ".py",
   "mimetype": "text/x-python",
   "name": "python",
   "nbconvert_exporter": "python",
   "pygments_lexer": "ipython3",
   "version": "3.8.5"
  }
 },
 "nbformat": 4,
 "nbformat_minor": 4
}
